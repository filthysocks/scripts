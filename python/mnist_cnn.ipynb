{
 "cells": [
  {
   "cell_type": "code",
   "execution_count": 51,
   "metadata": {},
   "outputs": [
    {
     "name": "stdout",
     "output_type": "stream",
     "text": [
      "Extracting ~/data/mnist/train-images-idx3-ubyte.gz\n",
      "Extracting ~/data/mnist/train-labels-idx1-ubyte.gz\n",
      "Extracting ~/data/mnist/t10k-images-idx3-ubyte.gz\n",
      "Extracting ~/data/mnist/t10k-labels-idx1-ubyte.gz\n"
     ]
    }
   ],
   "source": [
    "from tensorflow.examples.tutorials.mnist import input_data\n",
    "mnist = input_data.read_data_sets('~/data/mnist', one_hot=True)"
   ]
  },
  {
   "cell_type": "code",
   "execution_count": 47,
   "metadata": {},
   "outputs": [],
   "source": [
    "import numpy as np\n",
    "import pylab as plt\n",
    "\n",
    "def reshape(x):\n",
    "    length = int(np.sqrt(x.shape[1]))\n",
    "    return x.reshape(x.shape[0], length, length, 1)\n",
    "\n",
    "feature_dim = mnist.train.images.shape[1]\n",
    "out_dim = mnist.train.labels.shape[1]\n",
    "\n",
    "x_train = reshape(mnist.train.images)\n",
    "y_train = mnist.train.labels\n",
    "\n",
    "x_test = reshape(mnist.test.images)\n",
    "y_test = mnist.test.labels\n"
   ]
  },
  {
   "cell_type": "code",
   "execution_count": 49,
   "metadata": {},
   "outputs": [
    {
     "name": "stdout",
     "output_type": "stream",
     "text": [
      "Train on 55000 samples, validate on 10000 samples\n",
      "Epoch 1/5\n",
      "55000/55000 [==============================] - 6s 103us/step - loss: 0.5305 - acc: 0.8670 - val_loss: 0.3289 - val_acc: 0.9085\n",
      "Epoch 2/5\n",
      "55000/55000 [==============================] - 6s 101us/step - loss: 0.3220 - acc: 0.9090 - val_loss: 0.2942 - val_acc: 0.9157\n",
      "Epoch 3/5\n",
      "55000/55000 [==============================] - 6s 102us/step - loss: 0.3012 - acc: 0.9153 - val_loss: 0.2820 - val_acc: 0.9215\n",
      "Epoch 4/5\n",
      "55000/55000 [==============================] - 6s 104us/step - loss: 0.2909 - acc: 0.9180 - val_loss: 0.2785 - val_acc: 0.9185\n",
      "Epoch 5/5\n",
      "55000/55000 [==============================] - 6s 102us/step - loss: 0.2852 - acc: 0.9190 - val_loss: 0.2834 - val_acc: 0.9192\n"
     ]
    },
    {
     "data": {
      "text/plain": [
       "<keras.callbacks.History at 0x7f3201239ba8>"
      ]
     },
     "execution_count": 49,
     "metadata": {},
     "output_type": "execute_result"
    }
   ],
   "source": [
    "from keras.models import Sequential\n",
    "from keras.layers import Dense,Reshape,Flatten\n",
    "\n",
    "model = Sequential()\n",
    "\n",
    "shape = (x_train.shape[1], x_train.shape[2], 1)\n",
    "\n",
    "model.add(Dense(units=64, activation='relu', input_shape=shape))\n",
    "model.add(Flatten())\n",
    "model.add(Dense(units=out_dim, activation='softmax'))\n",
    "\n",
    "model.compile(loss='categorical_crossentropy',\n",
    "              optimizer='sgd',\n",
    "              metrics=['accuracy'])\n",
    "\n",
    "print(model.summary())\n",
    "\n",
    "model.fit(x_train, y_train, epochs=5, batch_size=32, validation_data=(x_test,y_test))"
   ]
  },
  {
   "cell_type": "code",
   "execution_count": 76,
   "metadata": {},
   "outputs": [
    {
     "name": "stdout",
     "output_type": "stream",
     "text": [
      "_________________________________________________________________\n",
      "Layer (type)                 Output Shape              Param #   \n",
      "=================================================================\n",
      "conv2d_36 (Conv2D)           (None, 20, 20, 64)        5248      \n",
      "_________________________________________________________________\n",
      "dense_75 (Dense)             (None, 20, 20, 32)        2080      \n",
      "_________________________________________________________________\n",
      "max_pooling2d_32 (MaxPooling (None, 10, 10, 32)        0         \n",
      "_________________________________________________________________\n",
      "conv2d_37 (Conv2D)           (None, 8, 8, 64)          18496     \n",
      "_________________________________________________________________\n",
      "dense_76 (Dense)             (None, 8, 8, 32)          2080      \n",
      "_________________________________________________________________\n",
      "max_pooling2d_33 (MaxPooling (None, 4, 4, 32)          0         \n",
      "_________________________________________________________________\n",
      "flatten_22 (Flatten)         (None, 512)               0         \n",
      "_________________________________________________________________\n",
      "dense_77 (Dense)             (None, 32)                16416     \n",
      "_________________________________________________________________\n",
      "dense_78 (Dense)             (None, 10)                330       \n",
      "=================================================================\n",
      "Total params: 44,650\n",
      "Trainable params: 44,650\n",
      "Non-trainable params: 0\n",
      "_________________________________________________________________\n",
      "None\n",
      "Train on 55000 samples, validate on 10000 samples\n",
      "Epoch 1/5\n",
      "55000/55000 [==============================] - 7s 136us/step - loss: 0.4736 - acc: 0.8551 - val_loss: 0.1451 - val_acc: 0.9545\n",
      "Epoch 2/5\n",
      "55000/55000 [==============================] - 7s 128us/step - loss: 0.1209 - acc: 0.9627 - val_loss: 0.1140 - val_acc: 0.9633\n",
      "Epoch 3/5\n",
      "55000/55000 [==============================] - 7s 130us/step - loss: 0.0883 - acc: 0.9726 - val_loss: 0.0665 - val_acc: 0.9792\n",
      "Epoch 4/5\n",
      "55000/55000 [==============================] - 7s 129us/step - loss: 0.0714 - acc: 0.9779 - val_loss: 0.0606 - val_acc: 0.9811\n",
      "Epoch 5/5\n",
      "55000/55000 [==============================] - 7s 131us/step - loss: 0.0616 - acc: 0.9807 - val_loss: 0.0543 - val_acc: 0.9821\n"
     ]
    },
    {
     "data": {
      "text/plain": [
       "<keras.callbacks.History at 0x7f31ad2b0780>"
      ]
     },
     "execution_count": 76,
     "metadata": {},
     "output_type": "execute_result"
    }
   ],
   "source": [
    "from keras.layers import Conv2D,MaxPooling2D\n",
    "\n",
    "model = Sequential()\n",
    "\n",
    "model.add(Conv2D(filters=64, kernel_size=(9,9), strides=(1, 1), input_shape=shape,\n",
    "                 data_format=\"channels_last\"))\n",
    "model.add(Dense(units=32, activation='relu'))\n",
    "model.add(MaxPooling2D(pool_size=(2, 2)))\n",
    "model.add(Conv2D(filters=64, kernel_size=(3,3), strides=(1, 1), input_shape=shape,\n",
    "                 data_format=\"channels_last\"))\n",
    "model.add(Dense(units=32, activation='relu'))\n",
    "model.add(MaxPooling2D(pool_size=(2, 2)))\n",
    "model.add(Flatten())\n",
    "model.add(Dense(units=out_dim, activation='softmax'))\n",
    "\n",
    "model.compile(loss='categorical_crossentropy',\n",
    "              optimizer='sgd',\n",
    "              metrics=['accuracy'])\n",
    "\n",
    "print(model.summary())\n",
    "\n",
    "model.fit(x_train, y_train, epochs=5, batch_size=32, validation_data=(x_test,y_test))"
   ]
  }
 ],
 "metadata": {
  "kernelspec": {
   "display_name": "Python 3",
   "language": "python",
   "name": "python3"
  },
  "language_info": {
   "codemirror_mode": {
    "name": "ipython",
    "version": 3
   },
   "file_extension": ".py",
   "mimetype": "text/x-python",
   "name": "python",
   "nbconvert_exporter": "python",
   "pygments_lexer": "ipython3",
   "version": "3.6.4"
  }
 },
 "nbformat": 4,
 "nbformat_minor": 2
}
